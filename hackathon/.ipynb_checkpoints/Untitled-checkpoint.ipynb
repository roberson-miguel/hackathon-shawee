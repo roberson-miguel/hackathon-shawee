{
 "cells": [
  {
   "cell_type": "markdown",
   "metadata": {},
   "source": [
    "<h1>Analise dos dados dos participantes do hackathon (mock)</h1>"
   ]
  },
  {
   "cell_type": "code",
   "execution_count": 42,
   "metadata": {},
   "outputs": [
    {
     "name": "stdout",
     "output_type": "stream",
     "text": [
      "Setup Complete\n"
     ]
    }
   ],
   "source": [
    "#Importing libs\n",
    "import pandas as pd\n",
    "import numpy as np\n",
    "import matplotlib.pyplot as plt\n",
    "%matplotlib inline\n",
    "import seaborn as sns\n",
    "print(\"Setup Complete\")"
   ]
  },
  {
   "cell_type": "code",
   "execution_count": 45,
   "metadata": {},
   "outputs": [
    {
     "name": "stdout",
     "output_type": "stream",
     "text": [
      "Data loaded\n"
     ]
    }
   ],
   "source": [
    "#importing data\n",
    "dataset_path = \"../teste-shawee-csv.csv\"\n",
    "data = pd.read_csv(dataset_path)\n",
    "print(\"Data loaded\")"
   ]
  },
  {
   "cell_type": "code",
   "execution_count": 47,
   "metadata": {},
   "outputs": [
    {
     "data": {
      "text/html": [
       "<div>\n",
       "<style scoped>\n",
       "    .dataframe tbody tr th:only-of-type {\n",
       "        vertical-align: middle;\n",
       "    }\n",
       "\n",
       "    .dataframe tbody tr th {\n",
       "        vertical-align: top;\n",
       "    }\n",
       "\n",
       "    .dataframe thead th {\n",
       "        text-align: right;\n",
       "    }\n",
       "</style>\n",
       "<table border=\"1\" class=\"dataframe\">\n",
       "  <thead>\n",
       "    <tr style=\"text-align: right;\">\n",
       "      <th></th>\n",
       "      <th>_id</th>\n",
       "      <th>name</th>\n",
       "      <th>gender</th>\n",
       "      <th>email</th>\n",
       "      <th>specialization</th>\n",
       "      <th>knowledge</th>\n",
       "    </tr>\n",
       "  </thead>\n",
       "  <tbody>\n",
       "    <tr>\n",
       "      <td>0</td>\n",
       "      <td>5d86cb0e743a9b2324e16251</td>\n",
       "      <td>Reyes Knapp</td>\n",
       "      <td>nb</td>\n",
       "      <td>teste@teste.com</td>\n",
       "      <td>frontend</td>\n",
       "      <td>3</td>\n",
       "    </tr>\n",
       "    <tr>\n",
       "      <td>1</td>\n",
       "      <td>5d86cb0ee3942ffdba66c645</td>\n",
       "      <td>Rios Wilson</td>\n",
       "      <td>trans</td>\n",
       "      <td>teste@teste.com</td>\n",
       "      <td>backend</td>\n",
       "      <td>3</td>\n",
       "    </tr>\n",
       "    <tr>\n",
       "      <td>2</td>\n",
       "      <td>5d86cb0ea495ec5822a8a927</td>\n",
       "      <td>Lancaster Richard</td>\n",
       "      <td>nb</td>\n",
       "      <td>teste@teste.com</td>\n",
       "      <td>business</td>\n",
       "      <td>1</td>\n",
       "    </tr>\n",
       "    <tr>\n",
       "      <td>3</td>\n",
       "      <td>5d86cb0e007c474d712a8b7a</td>\n",
       "      <td>French Gordon</td>\n",
       "      <td>trans</td>\n",
       "      <td>teste@teste.com</td>\n",
       "      <td>backend</td>\n",
       "      <td>1</td>\n",
       "    </tr>\n",
       "    <tr>\n",
       "      <td>4</td>\n",
       "      <td>5d86cb0eb5855278f5bfef3c</td>\n",
       "      <td>Jacklyn Owens</td>\n",
       "      <td>ni</td>\n",
       "      <td>teste@teste.com</td>\n",
       "      <td>frontend</td>\n",
       "      <td>2</td>\n",
       "    </tr>\n",
       "  </tbody>\n",
       "</table>\n",
       "</div>"
      ],
      "text/plain": [
       "                        _id               name gender            email  \\\n",
       "0  5d86cb0e743a9b2324e16251        Reyes Knapp     nb  teste@teste.com   \n",
       "1  5d86cb0ee3942ffdba66c645        Rios Wilson  trans  teste@teste.com   \n",
       "2  5d86cb0ea495ec5822a8a927  Lancaster Richard     nb  teste@teste.com   \n",
       "3  5d86cb0e007c474d712a8b7a      French Gordon  trans  teste@teste.com   \n",
       "4  5d86cb0eb5855278f5bfef3c      Jacklyn Owens     ni  teste@teste.com   \n",
       "\n",
       "  specialization  knowledge  \n",
       "0       frontend          3  \n",
       "1        backend          3  \n",
       "2       business          1  \n",
       "3        backend          1  \n",
       "4       frontend          2  "
      ]
     },
     "execution_count": 47,
     "metadata": {},
     "output_type": "execute_result"
    }
   ],
   "source": [
    "data.head()"
   ]
  },
  {
   "cell_type": "code",
   "execution_count": 49,
   "metadata": {},
   "outputs": [
    {
     "data": {
      "text/plain": [
       "<matplotlib.axes._subplots.AxesSubplot at 0x1feb20cbd88>"
      ]
     },
     "execution_count": 49,
     "metadata": {},
     "output_type": "execute_result"
    },
    {
     "data": {
      "image/png": "[encoded data removed]",
      "text/plain": [
       "<Figure size 432x288 with 1 Axes>"
      ]
     },
     "metadata": {
      "needs_background": "light"
     },
     "output_type": "display_data"
    }
   ],
   "source": [
    "#numero de participantes com cada skill e seus níveis de conhecimento\n",
    "sns.barplot(x=data['specialization'], y=data['knowledge'])"
   ]
  },
  {
   "cell_type": "code",
   "execution_count": 51,
   "metadata": {},
   "outputs": [
    {
     "name": "stdout",
     "output_type": "stream",
     "text": [
      "2.0\n"
     ]
    }
   ],
   "source": [
    "#calculating knowledge level average\n",
    "knowledge_average = np.floor(sum(data['knowledge']/len(data)))\n",
    "print(knowledge_average)"
   ]
  },
  {
   "cell_type": "code",
   "execution_count": 61,
   "metadata": {},
   "outputs": [
    {
     "name": "stdout",
     "output_type": "stream",
     "text": [
      "1000\n"
     ]
    }
   ],
   "source": [
    "#splitting data between specializations\n",
    "frontend = data.where(\"data['specialization'] == 'frontend'\")\n",
    "backend = data.where(data['specialization'] == 'backend')\n",
    "business = data.where(data['specialization'] == 'business')\n",
    "ux = data.where(data['specialization'] == 'ux')\n",
    "\n",
    "print(len(frontend))"
   ]
  },
  {
   "cell_type": "code",
   "execution_count": null,
   "metadata": {},
   "outputs": [],
   "source": []
  }
 ],
 "metadata": {
  "kernelspec": {
   "display_name": "Python 3",
   "language": "python",
   "name": "python3"
  },
  "language_info": {
   "codemirror_mode": {
    "name": "ipython",
    "version": 3
   },
   "file_extension": ".py",
   "mimetype": "text/x-python",
   "name": "python",
   "nbconvert_exporter": "python",
   "pygments_lexer": "ipython3",
   "version": "3.7.4"
  }
 },
 "nbformat": 4,
 "nbformat_minor": 2
}
